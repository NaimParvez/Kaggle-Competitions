{
 "cells": [
  {
   "cell_type": "code",
   "execution_count": 1,
   "id": "645c9502",
   "metadata": {},
   "outputs": [],
   "source": [
    "import numpy as np\n",
    "import pandas as pd\n",
    "import matplotlib.pyplot as plt"
   ]
  },
  {
   "cell_type": "code",
   "execution_count": 9,
   "id": "0b3289fd",
   "metadata": {},
   "outputs": [
    {
     "data": {
      "text/html": [
       "<div>\n",
       "<style scoped>\n",
       "    .dataframe tbody tr th:only-of-type {\n",
       "        vertical-align: middle;\n",
       "    }\n",
       "\n",
       "    .dataframe tbody tr th {\n",
       "        vertical-align: top;\n",
       "    }\n",
       "\n",
       "    .dataframe thead th {\n",
       "        text-align: right;\n",
       "    }\n",
       "</style>\n",
       "<table border=\"1\" class=\"dataframe\">\n",
       "  <thead>\n",
       "    <tr style=\"text-align: right;\">\n",
       "      <th></th>\n",
       "      <th>id</th>\n",
       "      <th>Time_spent_Alone</th>\n",
       "      <th>Stage_fear</th>\n",
       "      <th>Social_event_attendance</th>\n",
       "      <th>Going_outside</th>\n",
       "      <th>Drained_after_socializing</th>\n",
       "      <th>Friends_circle_size</th>\n",
       "      <th>Post_frequency</th>\n",
       "      <th>Personality</th>\n",
       "    </tr>\n",
       "  </thead>\n",
       "  <tbody>\n",
       "    <tr>\n",
       "      <th>0</th>\n",
       "      <td>0</td>\n",
       "      <td>0.0</td>\n",
       "      <td>No</td>\n",
       "      <td>6.0</td>\n",
       "      <td>4.0</td>\n",
       "      <td>No</td>\n",
       "      <td>15.0</td>\n",
       "      <td>5.0</td>\n",
       "      <td>Extrovert</td>\n",
       "    </tr>\n",
       "    <tr>\n",
       "      <th>1</th>\n",
       "      <td>1</td>\n",
       "      <td>1.0</td>\n",
       "      <td>No</td>\n",
       "      <td>7.0</td>\n",
       "      <td>3.0</td>\n",
       "      <td>No</td>\n",
       "      <td>10.0</td>\n",
       "      <td>8.0</td>\n",
       "      <td>Extrovert</td>\n",
       "    </tr>\n",
       "    <tr>\n",
       "      <th>2</th>\n",
       "      <td>2</td>\n",
       "      <td>6.0</td>\n",
       "      <td>Yes</td>\n",
       "      <td>1.0</td>\n",
       "      <td>0.0</td>\n",
       "      <td>NaN</td>\n",
       "      <td>3.0</td>\n",
       "      <td>0.0</td>\n",
       "      <td>Introvert</td>\n",
       "    </tr>\n",
       "    <tr>\n",
       "      <th>3</th>\n",
       "      <td>3</td>\n",
       "      <td>3.0</td>\n",
       "      <td>No</td>\n",
       "      <td>7.0</td>\n",
       "      <td>3.0</td>\n",
       "      <td>No</td>\n",
       "      <td>11.0</td>\n",
       "      <td>5.0</td>\n",
       "      <td>Extrovert</td>\n",
       "    </tr>\n",
       "    <tr>\n",
       "      <th>4</th>\n",
       "      <td>4</td>\n",
       "      <td>1.0</td>\n",
       "      <td>No</td>\n",
       "      <td>4.0</td>\n",
       "      <td>4.0</td>\n",
       "      <td>No</td>\n",
       "      <td>13.0</td>\n",
       "      <td>NaN</td>\n",
       "      <td>Extrovert</td>\n",
       "    </tr>\n",
       "  </tbody>\n",
       "</table>\n",
       "</div>"
      ],
      "text/plain": [
       "   id  Time_spent_Alone Stage_fear  Social_event_attendance  Going_outside  \\\n",
       "0   0               0.0         No                      6.0            4.0   \n",
       "1   1               1.0         No                      7.0            3.0   \n",
       "2   2               6.0        Yes                      1.0            0.0   \n",
       "3   3               3.0         No                      7.0            3.0   \n",
       "4   4               1.0         No                      4.0            4.0   \n",
       "\n",
       "  Drained_after_socializing  Friends_circle_size  Post_frequency Personality  \n",
       "0                        No                 15.0             5.0   Extrovert  \n",
       "1                        No                 10.0             8.0   Extrovert  \n",
       "2                       NaN                  3.0             0.0   Introvert  \n",
       "3                        No                 11.0             5.0   Extrovert  \n",
       "4                        No                 13.0             NaN   Extrovert  "
      ]
     },
     "execution_count": 9,
     "metadata": {},
     "output_type": "execute_result"
    }
   ],
   "source": [
    "df = pd.read_csv('train.csv')\n",
    "df.head()"
   ]
  },
  {
   "cell_type": "code",
   "execution_count": 10,
   "id": "b38aa873",
   "metadata": {},
   "outputs": [
    {
     "data": {
      "text/plain": [
       "(18524, 9)"
      ]
     },
     "execution_count": 10,
     "metadata": {},
     "output_type": "execute_result"
    }
   ],
   "source": [
    "df.shape"
   ]
  },
  {
   "cell_type": "code",
   "execution_count": 11,
   "id": "d8454de2",
   "metadata": {},
   "outputs": [
    {
     "name": "stdout",
     "output_type": "stream",
     "text": [
      "      id  Time_spent_Alone Stage_fear  Social_event_attendance  Going_outside  \\\n",
      "0  18524               3.0         No                      7.0            4.0   \n",
      "1  18525               NaN        Yes                      0.0            0.0   \n",
      "2  18526               3.0         No                      5.0            6.0   \n",
      "3  18527               3.0         No                      4.0            4.0   \n",
      "4  18528               9.0        Yes                      1.0            2.0   \n",
      "\n",
      "  Drained_after_socializing  Friends_circle_size  Post_frequency  \n",
      "0                        No                  6.0             NaN  \n",
      "1                       Yes                  5.0             1.0  \n",
      "2                        No                 15.0             9.0  \n",
      "3                        No                  5.0             6.0  \n",
      "4                       Yes                  1.0             1.0  \n"
     ]
    }
   ],
   "source": [
    "df2 = pd.read_csv('test.csv')\n",
    "print(df2.head())"
   ]
  },
  {
   "cell_type": "code",
   "execution_count": 12,
   "id": "5a7b1ec0",
   "metadata": {},
   "outputs": [
    {
     "data": {
      "text/plain": [
       "(6175, 8)"
      ]
     },
     "execution_count": 12,
     "metadata": {},
     "output_type": "execute_result"
    }
   ],
   "source": [
    "df2.shape"
   ]
  },
  {
   "cell_type": "code",
   "execution_count": 13,
   "id": "cbcdf571",
   "metadata": {},
   "outputs": [],
   "source": [
    "X = df.iloc[:,1:-1].values # Features excluding 'id' and target variable\n",
    "y = df.iloc[:,-1].values # Target variable"
   ]
  },
  {
   "cell_type": "code",
   "execution_count": 14,
   "id": "3b72f032",
   "metadata": {},
   "outputs": [
    {
     "data": {
      "text/plain": [
       "(18524, 7)"
      ]
     },
     "execution_count": 14,
     "metadata": {},
     "output_type": "execute_result"
    }
   ],
   "source": [
    "X.shape"
   ]
  },
  {
   "cell_type": "code",
   "execution_count": 15,
   "id": "612be217",
   "metadata": {},
   "outputs": [
    {
     "name": "stdout",
     "output_type": "stream",
     "text": [
      "[[0.0 'No' 6.0 4.0 'No' 15.0 5.0]\n",
      " [1.0 'No' 7.0 3.0 'No' 10.0 8.0]\n",
      " [6.0 'Yes' 1.0 0.0 nan 3.0 0.0]\n",
      " [3.0 'No' 7.0 3.0 'No' 11.0 5.0]\n",
      " [1.0 'No' 4.0 4.0 'No' 13.0 nan]\n",
      " [2.0 'No' 8.0 5.0 'No' nan 3.0]\n",
      " [1.0 'No' 8.0 nan 'No' nan 4.0]\n",
      " [2.0 'No' 8.0 3.0 'No' 4.0 5.0]\n",
      " [4.0 'Yes' 2.0 1.0 nan 0.0 2.0]\n",
      " [1.0 'No' 8.0 6.0 'No' 14.0 9.0]]\n",
      "['Extrovert' 'Extrovert' 'Introvert' 'Extrovert' 'Extrovert' 'Extrovert'\n",
      " 'Extrovert' 'Extrovert' 'Introvert' 'Extrovert']\n"
     ]
    }
   ],
   "source": [
    "print(X[:10])\n",
    "print(y[:10])"
   ]
  },
  {
   "cell_type": "code",
   "execution_count": 16,
   "id": "edbfb2e5",
   "metadata": {},
   "outputs": [],
   "source": [
    "XX = df2.iloc[:,1:].values"
   ]
  },
  {
   "cell_type": "code",
   "execution_count": 17,
   "id": "7edf717c",
   "metadata": {},
   "outputs": [
    {
     "data": {
      "text/plain": [
       "(6175, 7)"
      ]
     },
     "execution_count": 17,
     "metadata": {},
     "output_type": "execute_result"
    }
   ],
   "source": [
    "XX.shape"
   ]
  },
  {
   "cell_type": "code",
   "execution_count": 18,
   "id": "e79fc056",
   "metadata": {},
   "outputs": [
    {
     "name": "stdout",
     "output_type": "stream",
     "text": [
      "[[3.0 'No' 7.0 4.0 'No' 6.0 nan]\n",
      " [nan 'Yes' 0.0 0.0 'Yes' 5.0 1.0]\n",
      " [3.0 'No' 5.0 6.0 'No' 15.0 9.0]\n",
      " [3.0 'No' 4.0 4.0 'No' 5.0 6.0]\n",
      " [9.0 'Yes' 1.0 2.0 'Yes' 1.0 1.0]\n",
      " [2.0 'No' 5.0 3.0 'No' 10.0 4.0]\n",
      " [3.0 'No' 4.0 5.0 'No' 15.0 5.0]\n",
      " [11.0 'Yes' 2.0 1.0 'Yes' 4.0 1.0]\n",
      " [2.0 'No' 6.0 nan 'No' 9.0 6.0]\n",
      " [8.0 nan 2.0 1.0 'Yes' 1.0 1.0]]\n"
     ]
    }
   ],
   "source": [
    "print(XX[:10])\n"
   ]
  },
  {
   "cell_type": "markdown",
   "id": "358195df",
   "metadata": {},
   "source": [
    "# Imputation"
   ]
  },
  {
   "cell_type": "code",
   "execution_count": 19,
   "id": "4b37ae25",
   "metadata": {},
   "outputs": [],
   "source": [
    "from sklearn.impute import SimpleImputer\n",
    "imputer = SimpleImputer(missing_values=np.nan, strategy='mean')\n",
    "imputer.fit(X[:, [0, 2, 3,5, 6]])\n",
    "X[:, [0, 2, 3, 5, 6]] = imputer.transform(X[:, [0, 2, 3, 5, 6]])"
   ]
  },
  {
   "cell_type": "code",
   "execution_count": 20,
   "id": "88224036",
   "metadata": {},
   "outputs": [],
   "source": [
    "imputer2 = SimpleImputer(missing_values=np.nan, strategy='most_frequent')\n",
    "X[:, [1, 4]] = imputer2.fit_transform(X[:, [1, 4]])"
   ]
  },
  {
   "cell_type": "code",
   "execution_count": 21,
   "id": "b413a44e",
   "metadata": {},
   "outputs": [],
   "source": [
    "imputer.fit(XX[:, [0, 2, 3,5, 6]])\n",
    "XX[:, [0, 2, 3, 5, 6]] = imputer.transform(XX[:, [0, 2, 3, 5, 6]])\n",
    "imputer2.fit(XX[:, [1, 4]])\n",
    "XX[:, [1, 4]] = imputer2.transform(XX[:, [1, 4]])"
   ]
  },
  {
   "cell_type": "code",
   "execution_count": null,
   "id": "73cb834a",
   "metadata": {},
   "outputs": [
    {
     "name": "stdout",
     "output_type": "stream",
     "text": [
      "[[0.0 'No' 6.0 4.0 'No' 15.0 5.0]\n",
      " [1.0 'No' 7.0 3.0 'No' 10.0 8.0]\n",
      " [6.0 'Yes' 1.0 0.0 'No' 3.0 0.0]\n",
      " [3.0 'No' 7.0 3.0 'No' 11.0 5.0]\n",
      " [1.0 'No' 4.0 4.0 'No' 13.0 4.982097334878332]\n",
      " [2.0 'No' 8.0 5.0 'No' 7.996737263880939 3.0]\n",
      " [1.0 'No' 8.0 4.044319380935631 'No' 7.996737263880939 4.0]\n",
      " [2.0 'No' 8.0 3.0 'No' 4.0 5.0]\n",
      " [4.0 'Yes' 2.0 1.0 'No' 0.0 2.0]\n",
      " [1.0 'No' 8.0 6.0 'No' 14.0 9.0]]\n",
      "['Extrovert' 'Extrovert' 'Introvert' 'Extrovert' 'Extrovert' 'Extrovert'\n",
      " 'Extrovert' 'Extrovert' 'Introvert' 'Extrovert']\n"
     ]
    }
   ],
   "source": [
    "print(XX[:10])\n",
    "print(y[:10])"
   ]
  },
  {
   "cell_type": "markdown",
   "id": "2ec03963",
   "metadata": {},
   "source": [
    "# Encoding"
   ]
  },
  {
   "cell_type": "code",
   "execution_count": 111,
   "id": "d92d0b4e",
   "metadata": {},
   "outputs": [],
   "source": [
    "from sklearn.compose import ColumnTransformer\n",
    "from sklearn.preprocessing import OneHotEncoder\n",
    "\n",
    "encoding = ColumnTransformer(\n",
    "    transformers=[\n",
    "        ('encoder', OneHotEncoder(), [1, 4])  # Apply to column index 2 and 5\n",
    "    ],\n",
    "    remainder='passthrough'\n",
    ")\n",
    "X = np.array(encoding.fit_transform(X))"
   ]
  },
  {
   "cell_type": "code",
   "execution_count": 112,
   "id": "d9dbc85d",
   "metadata": {},
   "outputs": [
    {
     "name": "stdout",
     "output_type": "stream",
     "text": [
      "[[1.0 0.0 1.0 0.0 0.0 6.0 4.0 15.0 5.0]\n",
      " [1.0 0.0 1.0 0.0 1.0 7.0 3.0 10.0 8.0]\n",
      " [0.0 1.0 1.0 0.0 6.0 1.0 0.0 3.0 0.0]\n",
      " [1.0 0.0 1.0 0.0 3.0 7.0 3.0 11.0 5.0]\n",
      " [1.0 0.0 1.0 0.0 1.0 4.0 4.0 13.0 4.982097334878332]\n",
      " [1.0 0.0 1.0 0.0 2.0 8.0 5.0 7.996737263880939 3.0]\n",
      " [1.0 0.0 1.0 0.0 1.0 8.0 4.044319380935631 7.996737263880939 4.0]\n",
      " [1.0 0.0 1.0 0.0 2.0 8.0 3.0 4.0 5.0]\n",
      " [0.0 1.0 1.0 0.0 4.0 2.0 1.0 0.0 2.0]\n",
      " [1.0 0.0 1.0 0.0 1.0 8.0 6.0 14.0 9.0]]\n",
      "['Extrovert' 'Extrovert' 'Introvert' 'Extrovert' 'Extrovert' 'Extrovert'\n",
      " 'Extrovert' 'Extrovert' 'Introvert' 'Extrovert']\n"
     ]
    }
   ],
   "source": [
    "print(X[:10])\n",
    "print(y[:10])"
   ]
  },
  {
   "cell_type": "code",
   "execution_count": 113,
   "id": "8e3c375d",
   "metadata": {},
   "outputs": [],
   "source": [
    "# Select columns from df2 that match the features used for training (excluding 'id')\n",
    "# XX_features = df2.iloc[:, 1:].values\n",
    "XX = np.array(encoding.transform(XX))"
   ]
  },
  {
   "cell_type": "code",
   "execution_count": 114,
   "id": "73bb4473",
   "metadata": {},
   "outputs": [
    {
     "name": "stdout",
     "output_type": "stream",
     "text": [
      "[[1.0 0.0 1.0 0.0 3.0 7.0 4.0 6.0 5.0289578637073005]\n",
      " [0.0 1.0 0.0 1.0 3.1168695652173914 0.0 0.0 5.0 1.0]\n",
      " [1.0 0.0 1.0 0.0 3.0 5.0 6.0 15.0 9.0]\n",
      " [1.0 0.0 1.0 0.0 3.0 4.0 4.0 5.0 6.0]\n",
      " [0.0 1.0 0.0 1.0 9.0 1.0 2.0 1.0 1.0]\n",
      " [1.0 0.0 1.0 0.0 2.0 5.0 3.0 10.0 4.0]\n",
      " [1.0 0.0 1.0 0.0 3.0 4.0 5.0 15.0 5.0]\n",
      " [0.0 1.0 0.0 1.0 11.0 2.0 1.0 4.0 1.0]\n",
      " [1.0 0.0 1.0 0.0 2.0 6.0 4.03783499737257 9.0 6.0]\n",
      " [1.0 0.0 0.0 1.0 8.0 2.0 1.0 1.0 1.0]]\n"
     ]
    }
   ],
   "source": [
    "print(XX[:10])"
   ]
  },
  {
   "cell_type": "code",
   "execution_count": 115,
   "id": "248476eb",
   "metadata": {},
   "outputs": [],
   "source": [
    "from sklearn.preprocessing import LabelEncoder\n",
    "le = LabelEncoder()\n",
    "y = le.fit_transform(y)"
   ]
  },
  {
   "cell_type": "code",
   "execution_count": 116,
   "id": "f797828d",
   "metadata": {},
   "outputs": [
    {
     "name": "stdout",
     "output_type": "stream",
     "text": [
      "[0 0 1 0 0 0 0 0 1 0]\n"
     ]
    }
   ],
   "source": [
    "print(y[:10])"
   ]
  },
  {
   "cell_type": "code",
   "execution_count": null,
   "id": "af978123",
   "metadata": {},
   "outputs": [],
   "source": [
    "# from sklearn.model_selection import train_test_split\n",
    "# X_train, X_test, y_train, y_test = train_test_split(X, y, test_size = 0.2, random_state=0)"
   ]
  },
  {
   "cell_type": "markdown",
   "id": "ce675568",
   "metadata": {},
   "source": [
    "# Feature Scaling"
   ]
  },
  {
   "cell_type": "code",
   "execution_count": 117,
   "id": "abda6181",
   "metadata": {},
   "outputs": [],
   "source": [
    "from sklearn.preprocessing import StandardScaler\n",
    "scaler = StandardScaler()\n",
    "X_train_scaled = X.copy() # \n",
    "X_train_scaled[:, 4:] = scaler.fit_transform(X[:, 4:]) \n",
    "X_test_scaled = XX.copy()\n",
    "X_test_scaled[:, 4:] = scaler.transform(XX[:, 4:])"
   ]
  },
  {
   "cell_type": "code",
   "execution_count": 118,
   "id": "2b881f72",
   "metadata": {},
   "outputs": [],
   "source": [
    "XX_scaled = XX.copy()\n",
    "XX_scaled[:, 4:] = scaler.transform(XX[:, 4:])"
   ]
  },
  {
   "cell_type": "code",
   "execution_count": 119,
   "id": "e617a31c",
   "metadata": {},
   "outputs": [
    {
     "name": "stdout",
     "output_type": "stream",
     "text": [
      "[[1.0 0.0 1.0 0.0 -0.047412953605464124 0.6512014312067668\n",
      "  -0.022392314457120824 -0.4868368485422638 0.016861807458252765]\n",
      " [0.0 1.0 0.0 1.0 -0.0071910233309496075 -1.9762848884989872\n",
      "  -2.0433875526067093 -0.7306530267389028 -1.4328766708091063]\n",
      " [1.0 0.0 1.0 0.0 -0.047412953605464124 -0.09950894585202011\n",
      "  0.9881053046176735 1.7075087552274866 1.4457604900836363]\n",
      " [1.0 0.0 1.0 0.0 -0.047412953605464124 -0.47486413438141356\n",
      "  -0.022392314457120824 -0.7306530267389028 0.36627155474885775]\n",
      " [0.0 1.0 0.0 1.0 2.0175522167379127 -1.600929699969594\n",
      "  -1.0328899335319153 -1.7059177395254583 -1.4328766708091063]\n",
      " [1.0 0.0 1.0 0.0 -0.39157381532936025 -0.09950894585202011\n",
      "  -0.527641123994518 0.4884278642442919 -0.35338773547432784]\n",
      " [1.0 0.0 1.0 0.0 -0.047412953605464124 -0.47486413438141356\n",
      "  0.48285649508027634 1.7075087552274866 0.006441909637264966]\n",
      " [0.0 1.0 0.0 1.0 2.705873940185705 -1.2255745114402004\n",
      "  -1.5381387430693123 -0.9744692049355417 -1.4328766708091063]\n",
      " [1.0 0.0 1.0 0.0 -0.39157381532936025 0.27584624267737334\n",
      "  -0.0032762270757795 0.244611686047653 0.36627155474885775]\n",
      " [1.0 0.0 0.0 1.0 1.6733913550140165 -1.2255745114402004\n",
      "  -1.5381387430693123 -1.7059177395254583 -1.4328766708091063]]\n"
     ]
    }
   ],
   "source": [
    "print(X_test_scaled[:10])"
   ]
  },
  {
   "cell_type": "markdown",
   "id": "c6893b37",
   "metadata": {},
   "source": [
    "# Class Imbalance Check"
   ]
  },
  {
   "cell_type": "code",
   "execution_count": 120,
   "id": "40b35c65",
   "metadata": {},
   "outputs": [
    {
     "name": "stdout",
     "output_type": "stream",
     "text": [
      "Counter({np.int64(0): 13699, np.int64(1): 4825})\n"
     ]
    }
   ],
   "source": [
    "from collections import Counter\n",
    "print(Counter(y))"
   ]
  },
  {
   "cell_type": "code",
   "execution_count": 121,
   "id": "5c861152",
   "metadata": {},
   "outputs": [],
   "source": [
    "from imblearn.over_sampling import SMOTE\n",
    "sm = SMOTE(random_state=0)\n",
    "X_train_scaled_balanced, y_train_balanced = sm.fit_resample(X_train_scaled, y)\n",
    "X_train_balanced, y_train_balanced = sm.fit_resample(X, y)"
   ]
  },
  {
   "cell_type": "code",
   "execution_count": null,
   "id": "7f87c050",
   "metadata": {},
   "outputs": [],
   "source": []
  },
  {
   "cell_type": "code",
   "execution_count": 122,
   "id": "2732d36e",
   "metadata": {},
   "outputs": [
    {
     "name": "stdout",
     "output_type": "stream",
     "text": [
      "After SMOTE: Counter({np.int64(0): 13699, np.int64(1): 13699})\n"
     ]
    }
   ],
   "source": [
    "from collections import Counter\n",
    "print(\"After SMOTE:\", Counter(y_train_balanced))"
   ]
  },
  {
   "cell_type": "markdown",
   "id": "01db180f",
   "metadata": {},
   "source": [
    "# Logistic Regression"
   ]
  },
  {
   "cell_type": "code",
   "execution_count": 32,
   "id": "d7578ad5",
   "metadata": {},
   "outputs": [
    {
     "data": {
      "text/html": [
       "<style>#sk-container-id-1 {\n",
       "  /* Definition of color scheme common for light and dark mode */\n",
       "  --sklearn-color-text: #000;\n",
       "  --sklearn-color-text-muted: #666;\n",
       "  --sklearn-color-line: gray;\n",
       "  /* Definition of color scheme for unfitted estimators */\n",
       "  --sklearn-color-unfitted-level-0: #fff5e6;\n",
       "  --sklearn-color-unfitted-level-1: #f6e4d2;\n",
       "  --sklearn-color-unfitted-level-2: #ffe0b3;\n",
       "  --sklearn-color-unfitted-level-3: chocolate;\n",
       "  /* Definition of color scheme for fitted estimators */\n",
       "  --sklearn-color-fitted-level-0: #f0f8ff;\n",
       "  --sklearn-color-fitted-level-1: #d4ebff;\n",
       "  --sklearn-color-fitted-level-2: #b3dbfd;\n",
       "  --sklearn-color-fitted-level-3: cornflowerblue;\n",
       "\n",
       "  /* Specific color for light theme */\n",
       "  --sklearn-color-text-on-default-background: var(--sg-text-color, var(--theme-code-foreground, var(--jp-content-font-color1, black)));\n",
       "  --sklearn-color-background: var(--sg-background-color, var(--theme-background, var(--jp-layout-color0, white)));\n",
       "  --sklearn-color-border-box: var(--sg-text-color, var(--theme-code-foreground, var(--jp-content-font-color1, black)));\n",
       "  --sklearn-color-icon: #696969;\n",
       "\n",
       "  @media (prefers-color-scheme: dark) {\n",
       "    /* Redefinition of color scheme for dark theme */\n",
       "    --sklearn-color-text-on-default-background: var(--sg-text-color, var(--theme-code-foreground, var(--jp-content-font-color1, white)));\n",
       "    --sklearn-color-background: var(--sg-background-color, var(--theme-background, var(--jp-layout-color0, #111)));\n",
       "    --sklearn-color-border-box: var(--sg-text-color, var(--theme-code-foreground, var(--jp-content-font-color1, white)));\n",
       "    --sklearn-color-icon: #878787;\n",
       "  }\n",
       "}\n",
       "\n",
       "#sk-container-id-1 {\n",
       "  color: var(--sklearn-color-text);\n",
       "}\n",
       "\n",
       "#sk-container-id-1 pre {\n",
       "  padding: 0;\n",
       "}\n",
       "\n",
       "#sk-container-id-1 input.sk-hidden--visually {\n",
       "  border: 0;\n",
       "  clip: rect(1px 1px 1px 1px);\n",
       "  clip: rect(1px, 1px, 1px, 1px);\n",
       "  height: 1px;\n",
       "  margin: -1px;\n",
       "  overflow: hidden;\n",
       "  padding: 0;\n",
       "  position: absolute;\n",
       "  width: 1px;\n",
       "}\n",
       "\n",
       "#sk-container-id-1 div.sk-dashed-wrapped {\n",
       "  border: 1px dashed var(--sklearn-color-line);\n",
       "  margin: 0 0.4em 0.5em 0.4em;\n",
       "  box-sizing: border-box;\n",
       "  padding-bottom: 0.4em;\n",
       "  background-color: var(--sklearn-color-background);\n",
       "}\n",
       "\n",
       "#sk-container-id-1 div.sk-container {\n",
       "  /* jupyter's `normalize.less` sets `[hidden] { display: none; }`\n",
       "     but bootstrap.min.css set `[hidden] { display: none !important; }`\n",
       "     so we also need the `!important` here to be able to override the\n",
       "     default hidden behavior on the sphinx rendered scikit-learn.org.\n",
       "     See: https://github.com/scikit-learn/scikit-learn/issues/21755 */\n",
       "  display: inline-block !important;\n",
       "  position: relative;\n",
       "}\n",
       "\n",
       "#sk-container-id-1 div.sk-text-repr-fallback {\n",
       "  display: none;\n",
       "}\n",
       "\n",
       "div.sk-parallel-item,\n",
       "div.sk-serial,\n",
       "div.sk-item {\n",
       "  /* draw centered vertical line to link estimators */\n",
       "  background-image: linear-gradient(var(--sklearn-color-text-on-default-background), var(--sklearn-color-text-on-default-background));\n",
       "  background-size: 2px 100%;\n",
       "  background-repeat: no-repeat;\n",
       "  background-position: center center;\n",
       "}\n",
       "\n",
       "/* Parallel-specific style estimator block */\n",
       "\n",
       "#sk-container-id-1 div.sk-parallel-item::after {\n",
       "  content: \"\";\n",
       "  width: 100%;\n",
       "  border-bottom: 2px solid var(--sklearn-color-text-on-default-background);\n",
       "  flex-grow: 1;\n",
       "}\n",
       "\n",
       "#sk-container-id-1 div.sk-parallel {\n",
       "  display: flex;\n",
       "  align-items: stretch;\n",
       "  justify-content: center;\n",
       "  background-color: var(--sklearn-color-background);\n",
       "  position: relative;\n",
       "}\n",
       "\n",
       "#sk-container-id-1 div.sk-parallel-item {\n",
       "  display: flex;\n",
       "  flex-direction: column;\n",
       "}\n",
       "\n",
       "#sk-container-id-1 div.sk-parallel-item:first-child::after {\n",
       "  align-self: flex-end;\n",
       "  width: 50%;\n",
       "}\n",
       "\n",
       "#sk-container-id-1 div.sk-parallel-item:last-child::after {\n",
       "  align-self: flex-start;\n",
       "  width: 50%;\n",
       "}\n",
       "\n",
       "#sk-container-id-1 div.sk-parallel-item:only-child::after {\n",
       "  width: 0;\n",
       "}\n",
       "\n",
       "/* Serial-specific style estimator block */\n",
       "\n",
       "#sk-container-id-1 div.sk-serial {\n",
       "  display: flex;\n",
       "  flex-direction: column;\n",
       "  align-items: center;\n",
       "  background-color: var(--sklearn-color-background);\n",
       "  padding-right: 1em;\n",
       "  padding-left: 1em;\n",
       "}\n",
       "\n",
       "\n",
       "/* Toggleable style: style used for estimator/Pipeline/ColumnTransformer box that is\n",
       "clickable and can be expanded/collapsed.\n",
       "- Pipeline and ColumnTransformer use this feature and define the default style\n",
       "- Estimators will overwrite some part of the style using the `sk-estimator` class\n",
       "*/\n",
       "\n",
       "/* Pipeline and ColumnTransformer style (default) */\n",
       "\n",
       "#sk-container-id-1 div.sk-toggleable {\n",
       "  /* Default theme specific background. It is overwritten whether we have a\n",
       "  specific estimator or a Pipeline/ColumnTransformer */\n",
       "  background-color: var(--sklearn-color-background);\n",
       "}\n",
       "\n",
       "/* Toggleable label */\n",
       "#sk-container-id-1 label.sk-toggleable__label {\n",
       "  cursor: pointer;\n",
       "  display: flex;\n",
       "  width: 100%;\n",
       "  margin-bottom: 0;\n",
       "  padding: 0.5em;\n",
       "  box-sizing: border-box;\n",
       "  text-align: center;\n",
       "  align-items: start;\n",
       "  justify-content: space-between;\n",
       "  gap: 0.5em;\n",
       "}\n",
       "\n",
       "#sk-container-id-1 label.sk-toggleable__label .caption {\n",
       "  font-size: 0.6rem;\n",
       "  font-weight: lighter;\n",
       "  color: var(--sklearn-color-text-muted);\n",
       "}\n",
       "\n",
       "#sk-container-id-1 label.sk-toggleable__label-arrow:before {\n",
       "  /* Arrow on the left of the label */\n",
       "  content: \"▸\";\n",
       "  float: left;\n",
       "  margin-right: 0.25em;\n",
       "  color: var(--sklearn-color-icon);\n",
       "}\n",
       "\n",
       "#sk-container-id-1 label.sk-toggleable__label-arrow:hover:before {\n",
       "  color: var(--sklearn-color-text);\n",
       "}\n",
       "\n",
       "/* Toggleable content - dropdown */\n",
       "\n",
       "#sk-container-id-1 div.sk-toggleable__content {\n",
       "  max-height: 0;\n",
       "  max-width: 0;\n",
       "  overflow: hidden;\n",
       "  text-align: left;\n",
       "  /* unfitted */\n",
       "  background-color: var(--sklearn-color-unfitted-level-0);\n",
       "}\n",
       "\n",
       "#sk-container-id-1 div.sk-toggleable__content.fitted {\n",
       "  /* fitted */\n",
       "  background-color: var(--sklearn-color-fitted-level-0);\n",
       "}\n",
       "\n",
       "#sk-container-id-1 div.sk-toggleable__content pre {\n",
       "  margin: 0.2em;\n",
       "  border-radius: 0.25em;\n",
       "  color: var(--sklearn-color-text);\n",
       "  /* unfitted */\n",
       "  background-color: var(--sklearn-color-unfitted-level-0);\n",
       "}\n",
       "\n",
       "#sk-container-id-1 div.sk-toggleable__content.fitted pre {\n",
       "  /* unfitted */\n",
       "  background-color: var(--sklearn-color-fitted-level-0);\n",
       "}\n",
       "\n",
       "#sk-container-id-1 input.sk-toggleable__control:checked~div.sk-toggleable__content {\n",
       "  /* Expand drop-down */\n",
       "  max-height: 200px;\n",
       "  max-width: 100%;\n",
       "  overflow: auto;\n",
       "}\n",
       "\n",
       "#sk-container-id-1 input.sk-toggleable__control:checked~label.sk-toggleable__label-arrow:before {\n",
       "  content: \"▾\";\n",
       "}\n",
       "\n",
       "/* Pipeline/ColumnTransformer-specific style */\n",
       "\n",
       "#sk-container-id-1 div.sk-label input.sk-toggleable__control:checked~label.sk-toggleable__label {\n",
       "  color: var(--sklearn-color-text);\n",
       "  background-color: var(--sklearn-color-unfitted-level-2);\n",
       "}\n",
       "\n",
       "#sk-container-id-1 div.sk-label.fitted input.sk-toggleable__control:checked~label.sk-toggleable__label {\n",
       "  background-color: var(--sklearn-color-fitted-level-2);\n",
       "}\n",
       "\n",
       "/* Estimator-specific style */\n",
       "\n",
       "/* Colorize estimator box */\n",
       "#sk-container-id-1 div.sk-estimator input.sk-toggleable__control:checked~label.sk-toggleable__label {\n",
       "  /* unfitted */\n",
       "  background-color: var(--sklearn-color-unfitted-level-2);\n",
       "}\n",
       "\n",
       "#sk-container-id-1 div.sk-estimator.fitted input.sk-toggleable__control:checked~label.sk-toggleable__label {\n",
       "  /* fitted */\n",
       "  background-color: var(--sklearn-color-fitted-level-2);\n",
       "}\n",
       "\n",
       "#sk-container-id-1 div.sk-label label.sk-toggleable__label,\n",
       "#sk-container-id-1 div.sk-label label {\n",
       "  /* The background is the default theme color */\n",
       "  color: var(--sklearn-color-text-on-default-background);\n",
       "}\n",
       "\n",
       "/* On hover, darken the color of the background */\n",
       "#sk-container-id-1 div.sk-label:hover label.sk-toggleable__label {\n",
       "  color: var(--sklearn-color-text);\n",
       "  background-color: var(--sklearn-color-unfitted-level-2);\n",
       "}\n",
       "\n",
       "/* Label box, darken color on hover, fitted */\n",
       "#sk-container-id-1 div.sk-label.fitted:hover label.sk-toggleable__label.fitted {\n",
       "  color: var(--sklearn-color-text);\n",
       "  background-color: var(--sklearn-color-fitted-level-2);\n",
       "}\n",
       "\n",
       "/* Estimator label */\n",
       "\n",
       "#sk-container-id-1 div.sk-label label {\n",
       "  font-family: monospace;\n",
       "  font-weight: bold;\n",
       "  display: inline-block;\n",
       "  line-height: 1.2em;\n",
       "}\n",
       "\n",
       "#sk-container-id-1 div.sk-label-container {\n",
       "  text-align: center;\n",
       "}\n",
       "\n",
       "/* Estimator-specific */\n",
       "#sk-container-id-1 div.sk-estimator {\n",
       "  font-family: monospace;\n",
       "  border: 1px dotted var(--sklearn-color-border-box);\n",
       "  border-radius: 0.25em;\n",
       "  box-sizing: border-box;\n",
       "  margin-bottom: 0.5em;\n",
       "  /* unfitted */\n",
       "  background-color: var(--sklearn-color-unfitted-level-0);\n",
       "}\n",
       "\n",
       "#sk-container-id-1 div.sk-estimator.fitted {\n",
       "  /* fitted */\n",
       "  background-color: var(--sklearn-color-fitted-level-0);\n",
       "}\n",
       "\n",
       "/* on hover */\n",
       "#sk-container-id-1 div.sk-estimator:hover {\n",
       "  /* unfitted */\n",
       "  background-color: var(--sklearn-color-unfitted-level-2);\n",
       "}\n",
       "\n",
       "#sk-container-id-1 div.sk-estimator.fitted:hover {\n",
       "  /* fitted */\n",
       "  background-color: var(--sklearn-color-fitted-level-2);\n",
       "}\n",
       "\n",
       "/* Specification for estimator info (e.g. \"i\" and \"?\") */\n",
       "\n",
       "/* Common style for \"i\" and \"?\" */\n",
       "\n",
       ".sk-estimator-doc-link,\n",
       "a:link.sk-estimator-doc-link,\n",
       "a:visited.sk-estimator-doc-link {\n",
       "  float: right;\n",
       "  font-size: smaller;\n",
       "  line-height: 1em;\n",
       "  font-family: monospace;\n",
       "  background-color: var(--sklearn-color-background);\n",
       "  border-radius: 1em;\n",
       "  height: 1em;\n",
       "  width: 1em;\n",
       "  text-decoration: none !important;\n",
       "  margin-left: 0.5em;\n",
       "  text-align: center;\n",
       "  /* unfitted */\n",
       "  border: var(--sklearn-color-unfitted-level-1) 1pt solid;\n",
       "  color: var(--sklearn-color-unfitted-level-1);\n",
       "}\n",
       "\n",
       ".sk-estimator-doc-link.fitted,\n",
       "a:link.sk-estimator-doc-link.fitted,\n",
       "a:visited.sk-estimator-doc-link.fitted {\n",
       "  /* fitted */\n",
       "  border: var(--sklearn-color-fitted-level-1) 1pt solid;\n",
       "  color: var(--sklearn-color-fitted-level-1);\n",
       "}\n",
       "\n",
       "/* On hover */\n",
       "div.sk-estimator:hover .sk-estimator-doc-link:hover,\n",
       ".sk-estimator-doc-link:hover,\n",
       "div.sk-label-container:hover .sk-estimator-doc-link:hover,\n",
       ".sk-estimator-doc-link:hover {\n",
       "  /* unfitted */\n",
       "  background-color: var(--sklearn-color-unfitted-level-3);\n",
       "  color: var(--sklearn-color-background);\n",
       "  text-decoration: none;\n",
       "}\n",
       "\n",
       "div.sk-estimator.fitted:hover .sk-estimator-doc-link.fitted:hover,\n",
       ".sk-estimator-doc-link.fitted:hover,\n",
       "div.sk-label-container:hover .sk-estimator-doc-link.fitted:hover,\n",
       ".sk-estimator-doc-link.fitted:hover {\n",
       "  /* fitted */\n",
       "  background-color: var(--sklearn-color-fitted-level-3);\n",
       "  color: var(--sklearn-color-background);\n",
       "  text-decoration: none;\n",
       "}\n",
       "\n",
       "/* Span, style for the box shown on hovering the info icon */\n",
       ".sk-estimator-doc-link span {\n",
       "  display: none;\n",
       "  z-index: 9999;\n",
       "  position: relative;\n",
       "  font-weight: normal;\n",
       "  right: .2ex;\n",
       "  padding: .5ex;\n",
       "  margin: .5ex;\n",
       "  width: min-content;\n",
       "  min-width: 20ex;\n",
       "  max-width: 50ex;\n",
       "  color: var(--sklearn-color-text);\n",
       "  box-shadow: 2pt 2pt 4pt #999;\n",
       "  /* unfitted */\n",
       "  background: var(--sklearn-color-unfitted-level-0);\n",
       "  border: .5pt solid var(--sklearn-color-unfitted-level-3);\n",
       "}\n",
       "\n",
       ".sk-estimator-doc-link.fitted span {\n",
       "  /* fitted */\n",
       "  background: var(--sklearn-color-fitted-level-0);\n",
       "  border: var(--sklearn-color-fitted-level-3);\n",
       "}\n",
       "\n",
       ".sk-estimator-doc-link:hover span {\n",
       "  display: block;\n",
       "}\n",
       "\n",
       "/* \"?\"-specific style due to the `<a>` HTML tag */\n",
       "\n",
       "#sk-container-id-1 a.estimator_doc_link {\n",
       "  float: right;\n",
       "  font-size: 1rem;\n",
       "  line-height: 1em;\n",
       "  font-family: monospace;\n",
       "  background-color: var(--sklearn-color-background);\n",
       "  border-radius: 1rem;\n",
       "  height: 1rem;\n",
       "  width: 1rem;\n",
       "  text-decoration: none;\n",
       "  /* unfitted */\n",
       "  color: var(--sklearn-color-unfitted-level-1);\n",
       "  border: var(--sklearn-color-unfitted-level-1) 1pt solid;\n",
       "}\n",
       "\n",
       "#sk-container-id-1 a.estimator_doc_link.fitted {\n",
       "  /* fitted */\n",
       "  border: var(--sklearn-color-fitted-level-1) 1pt solid;\n",
       "  color: var(--sklearn-color-fitted-level-1);\n",
       "}\n",
       "\n",
       "/* On hover */\n",
       "#sk-container-id-1 a.estimator_doc_link:hover {\n",
       "  /* unfitted */\n",
       "  background-color: var(--sklearn-color-unfitted-level-3);\n",
       "  color: var(--sklearn-color-background);\n",
       "  text-decoration: none;\n",
       "}\n",
       "\n",
       "#sk-container-id-1 a.estimator_doc_link.fitted:hover {\n",
       "  /* fitted */\n",
       "  background-color: var(--sklearn-color-fitted-level-3);\n",
       "}\n",
       "</style><div id=\"sk-container-id-1\" class=\"sk-top-container\"><div class=\"sk-text-repr-fallback\"><pre>LogisticRegression(random_state=0)</pre><b>In a Jupyter environment, please rerun this cell to show the HTML representation or trust the notebook. <br />On GitHub, the HTML representation is unable to render, please try loading this page with nbviewer.org.</b></div><div class=\"sk-container\" hidden><div class=\"sk-item\"><div class=\"sk-estimator fitted sk-toggleable\"><input class=\"sk-toggleable__control sk-hidden--visually\" id=\"sk-estimator-id-1\" type=\"checkbox\" checked><label for=\"sk-estimator-id-1\" class=\"sk-toggleable__label fitted sk-toggleable__label-arrow\"><div><div>LogisticRegression</div></div><div><a class=\"sk-estimator-doc-link fitted\" rel=\"noreferrer\" target=\"_blank\" href=\"https://scikit-learn.org/1.6/modules/generated/sklearn.linear_model.LogisticRegression.html\">?<span>Documentation for LogisticRegression</span></a><span class=\"sk-estimator-doc-link fitted\">i<span>Fitted</span></span></div></label><div class=\"sk-toggleable__content fitted\"><pre>LogisticRegression(random_state=0)</pre></div> </div></div></div></div>"
      ],
      "text/plain": [
       "LogisticRegression(random_state=0)"
      ]
     },
     "execution_count": 32,
     "metadata": {},
     "output_type": "execute_result"
    }
   ],
   "source": [
    "from sklearn.linear_model import LogisticRegression\n",
    "classifier = LogisticRegression(random_state=0)\n",
    "classifier.fit(X_train_scaled_balanced, y_train_balanced)"
   ]
  },
  {
   "cell_type": "code",
   "execution_count": 33,
   "id": "ffc498da",
   "metadata": {},
   "outputs": [],
   "source": [
    "y_pred = classifier.predict(X_test_scaled)"
   ]
  },
  {
   "cell_type": "code",
   "execution_count": 34,
   "id": "b2f4e6cc",
   "metadata": {},
   "outputs": [],
   "source": [
    "y_pred_xx = classifier.predict(XX_scaled)"
   ]
  },
  {
   "cell_type": "code",
   "execution_count": 35,
   "id": "2c69c725",
   "metadata": {},
   "outputs": [
    {
     "name": "stdout",
     "output_type": "stream",
     "text": [
      "[0 1 0 0 1 0 0 1 0 1]\n",
      "['Extrovert' 'Introvert' 'Extrovert' 'Extrovert' 'Introvert' 'Extrovert'\n",
      " 'Extrovert' 'Introvert' 'Extrovert' 'Introvert']\n"
     ]
    }
   ],
   "source": [
    "print(y_pred_xx[:10])\n",
    "test_predictions = le.inverse_transform(y_pred_xx)\n",
    "print(test_predictions[:10])"
   ]
  },
  {
   "cell_type": "code",
   "execution_count": 36,
   "id": "4c4c554d",
   "metadata": {},
   "outputs": [
    {
     "name": "stdout",
     "output_type": "stream",
     "text": [
      "      id Personality\n",
      "0  18524   Extrovert\n",
      "1  18525   Introvert\n",
      "2  18526   Extrovert\n",
      "3  18527   Extrovert\n",
      "4  18528   Introvert\n"
     ]
    }
   ],
   "source": [
    "# Assuming df2 has a column named \"id\" as its first column\n",
    "ids = df2.iloc[:, 0]  # or df2['id'] if the column is named 'id'\n",
    "\n",
    "# Create a new DataFrame for output\n",
    "output_df = pd.DataFrame({\n",
    "    'id': ids,\n",
    "    'Personality': test_predictions\n",
    "})\n",
    "\n",
    "# Save to CSV\n",
    "output_df.to_csv('submission_rafin.csv', index=False)\n",
    "\n",
    "# Optional: preview the first few rows\n",
    "print(output_df.head())"
   ]
  },
  {
   "cell_type": "markdown",
   "id": "7f6a760f",
   "metadata": {},
   "source": [
    "# Random Forest"
   ]
  },
  {
   "cell_type": "markdown",
   "id": "c26f5a79",
   "metadata": {},
   "source": []
  },
  {
   "cell_type": "code",
   "execution_count": null,
   "id": "94d15f7b",
   "metadata": {},
   "outputs": [],
   "source": []
  },
  {
   "cell_type": "markdown",
   "id": "26027496",
   "metadata": {},
   "source": [
    "# Neural net"
   ]
  },
  {
   "cell_type": "code",
   "execution_count": 123,
   "id": "16d814fa",
   "metadata": {},
   "outputs": [],
   "source": [
    "from tensorflow.keras.models import Sequential\n",
    "from tensorflow.keras.layers import Dense"
   ]
  },
  {
   "cell_type": "code",
   "execution_count": null,
   "id": "a42e6980",
   "metadata": {},
   "outputs": [],
   "source": []
  },
  {
   "cell_type": "code",
   "execution_count": 125,
   "id": "073e1590",
   "metadata": {
    "vscode": {
     "languageId": "javascript"
    }
   },
   "outputs": [
    {
     "name": "stdout",
     "output_type": "stream",
     "text": [
      "\u001b[1m193/193\u001b[0m \u001b[32m━━━━━━━━━━━━━━━━━━━━\u001b[0m\u001b[37m\u001b[0m \u001b[1m0s\u001b[0m 851us/step\n",
      "      id Personality\n",
      "0  18524   Extrovert\n",
      "1  18525   Introvert\n",
      "2  18526   Extrovert\n",
      "3  18527   Extrovert\n",
      "4  18528   Introvert\n"
     ]
    }
   ],
   "source": [
    "\n",
    "XX_nn = XX_scaled.astype(np.float32)\n",
    "y_pred_test_nn = (model.predict(XX_nn) > 0.5).astype(int).flatten()\n",
    "\n",
    "\n",
    "test_nn_predictions = le.inverse_transform(y_pred_test_nn)\n",
    "\n",
    "\n",
    "output_nn_df = pd.DataFrame({\n",
    "    'id': df2['id'],\n",
    "    'Personality': test_nn_predictions\n",
    "})\n",
    "\n",
    "\n",
    "output_nn_df.to_csv('submission_nn2.csv', index=False)\n",
    "\n",
    "\n",
    "print(output_nn_df.head())"
   ]
  },
  {
   "cell_type": "code",
   "execution_count": 127,
   "id": "4d2815bc",
   "metadata": {},
   "outputs": [
    {
     "data": {
      "text/plain": [
       "(6175, 2)"
      ]
     },
     "execution_count": 127,
     "metadata": {},
     "output_type": "execute_result"
    }
   ],
   "source": [
    "sub=pd.read_csv('submission_nn2.csv')\n",
    "sub.shape"
   ]
  },
  {
   "cell_type": "code",
   "execution_count": null,
   "id": "cc6a4d0d",
   "metadata": {},
   "outputs": [],
   "source": []
  }
 ],
 "metadata": {
  "kernelspec": {
   "display_name": "py31013",
   "language": "python",
   "name": "python3"
  },
  "language_info": {
   "codemirror_mode": {
    "name": "ipython",
    "version": 3
   },
   "file_extension": ".py",
   "mimetype": "text/x-python",
   "name": "python",
   "nbconvert_exporter": "python",
   "pygments_lexer": "ipython3",
   "version": "3.10.13"
  }
 },
 "nbformat": 4,
 "nbformat_minor": 5
}
